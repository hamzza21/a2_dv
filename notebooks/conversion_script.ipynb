{
 "cells": [
  {
   "cell_type": "code",
   "execution_count": 1,
   "id": "a4d9e06f-39d2-4482-b1b5-156ad008c86d",
   "metadata": {},
   "outputs": [],
   "source": [
    "import json\n",
    "import pandas as pd"
   ]
  },
  {
   "cell_type": "code",
   "execution_count": 6,
   "id": "8d861b61-b360-4af0-8c07-36e7f902ccb2",
   "metadata": {},
   "outputs": [],
   "source": [
    "file_path = '../dataset/'\n",
    "file_name1 = 'Digital_Music.jsonl'\n",
    "file_name2 = 'meta_Digital_Music.jsonl'\n",
    "csv_filename1 = 'digital_music.csv'\n",
    "csv_filename2 = 'meta_digital_music.csv'"
   ]
  },
  {
   "cell_type": "code",
   "execution_count": 3,
   "id": "e721e24b-86b1-49b0-835b-69b3cd2b0155",
   "metadata": {},
   "outputs": [],
   "source": [
    "def convert_jsonl_csv(filepath,csv_filepath):\n",
    "    data = []\n",
    "    with open(filepath, 'r', encoding='utf-8') as f:\n",
    "        for line in f:\n",
    "            data.append(json.loads(line))\n",
    "    \n",
    "    df = pd.DataFrame(data)\n",
    "    df.to_csv(csv_filepath, index=False)"
   ]
  },
  {
   "cell_type": "code",
   "execution_count": 8,
   "id": "7ab918ed-0680-40f2-8811-11226f2197e8",
   "metadata": {},
   "outputs": [],
   "source": [
    "convert_jsonl_csv(file_path+file_name1,file_path+csv_filename1)"
   ]
  },
  {
   "cell_type": "code",
   "execution_count": 9,
   "id": "83f5be66-0bf3-48cd-84b4-e77d8461de72",
   "metadata": {},
   "outputs": [],
   "source": [
    "convert_jsonl_csv(file_path+file_name2,file_path+csv_filename2)"
   ]
  }
 ],
 "metadata": {
  "kernelspec": {
   "display_name": "Python 3 (ipykernel)",
   "language": "python",
   "name": "python3"
  },
  "language_info": {
   "codemirror_mode": {
    "name": "ipython",
    "version": 3
   },
   "file_extension": ".py",
   "mimetype": "text/x-python",
   "name": "python",
   "nbconvert_exporter": "python",
   "pygments_lexer": "ipython3",
   "version": "3.11.5"
  }
 },
 "nbformat": 4,
 "nbformat_minor": 5
}
